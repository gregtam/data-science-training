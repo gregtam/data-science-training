{
 "cells": [
  {
   "cell_type": "markdown",
   "metadata": {
    "toc": "true"
   },
   "source": [
    "# Table of Contents\n",
    " <p><div class=\"lev1 toc-item\"><a href=\"#Imports-and-Settings\" data-toc-modified-id=\"Imports-and-Settings-1\"><span class=\"toc-item-num\">1&nbsp;&nbsp;</span>Imports and Settings</a></div><div class=\"lev1 toc-item\"><a href=\"#Preparing-Data\" data-toc-modified-id=\"Preparing-Data-2\"><span class=\"toc-item-num\">2&nbsp;&nbsp;</span>Preparing Data</a></div><div class=\"lev2 toc-item\"><a href=\"#Split-the-data-into-training-and-test-sets\" data-toc-modified-id=\"Split-the-data-into-training-and-test-sets-21\"><span class=\"toc-item-num\">2.1&nbsp;&nbsp;</span>Split the data into training and test sets</a></div><div class=\"lev2 toc-item\"><a href=\"#Define-PL/Python-Functions\" data-toc-modified-id=\"Define-PL/Python-Functions-22\"><span class=\"toc-item-num\">2.2&nbsp;&nbsp;</span>Define PL/Python Functions</a></div><div class=\"lev1 toc-item\"><a href=\"#Test-Set-on-Batches\" data-toc-modified-id=\"Test-Set-on-Batches-3\"><span class=\"toc-item-num\">3&nbsp;&nbsp;</span>Test Set on Batches</a></div><div class=\"lev1 toc-item\"><a href=\"#Check-Performance\" data-toc-modified-id=\"Check-Performance-4\"><span class=\"toc-item-num\">4&nbsp;&nbsp;</span>Check Performance</a></div>"
   ]
  },
  {
   "cell_type": "markdown",
   "metadata": {},
   "source": [
    "# Imports and Settings"
   ]
  },
  {
   "cell_type": "markdown",
   "metadata": {},
   "source": [
    "Import relevant Python libraries."
   ]
  },
  {
   "cell_type": "code",
   "execution_count": 1,
   "metadata": {
    "ExecuteTime": {
     "end_time": "2017-07-05T15:01:20.295160Z",
     "start_time": "2017-07-05T15:01:18.484824Z"
    },
    "collapsed": true
   },
   "outputs": [],
   "source": [
    "from IPython.display import display, HTML\n",
    "%matplotlib inline\n",
    "import matplotlib.pyplot as plt\n",
    "import numpy as np\n",
    "import pandas as pd\n",
    "import pandas.io.sql as psql\n",
    "import psycopg2\n",
    "import seaborn as sns\n",
    "from sklearn.ensemble import RandomForestClassifier\n",
    "from sklearn.metrics import roc_auc_score, roc_curve\n",
    "from sqlalchemy import create_engine\n",
    "\n",
    "import credentials"
   ]
  },
  {
   "cell_type": "code",
   "execution_count": 2,
   "metadata": {
    "ExecuteTime": {
     "end_time": "2017-07-05T15:01:20.332966Z",
     "start_time": "2017-07-05T15:01:20.296751Z"
    }
   },
   "outputs": [
    {
     "data": {
      "text/html": [
       "<style>.container {width:80% !important;}</style>"
      ],
      "text/plain": [
       "<IPython.core.display.HTML object>"
      ]
     },
     "metadata": {},
     "output_type": "display_data"
    }
   ],
   "source": [
    "# Set default cell width\n",
    "display(HTML('<style>.container {width:80% !important;}</style>'))\n",
    "\n",
    "# Set default matplotlib settings\n",
    "plt.rcParams['figure.figsize'] = (10, 7)\n",
    "plt.rcParams['lines.linewidth'] = 3\n",
    "plt.rcParams['figure.titlesize'] = 26\n",
    "plt.rcParams['axes.labelsize'] = 18\n",
    "plt.rcParams['axes.titlesize'] = 22\n",
    "plt.rcParams['xtick.labelsize'] = 14\n",
    "plt.rcParams['ytick.labelsize'] = 14\n",
    "plt.rcParams['legend.fontsize'] = 16\n",
    "\n",
    "# Set seaborn colours\n",
    "sns.set_palette('colorblind')\n",
    "blue, green, red, purple, yellow, cyan = sns.color_palette('colorblind')"
   ]
  },
  {
   "cell_type": "markdown",
   "metadata": {},
   "source": [
    "Connect to the database."
   ]
  },
  {
   "cell_type": "code",
   "execution_count": 3,
   "metadata": {
    "ExecuteTime": {
     "end_time": "2017-07-05T15:01:20.370483Z",
     "start_time": "2017-07-05T15:01:20.334493Z"
    }
   },
   "outputs": [],
   "source": [
    "conn = psycopg2.connect(**credentials.gpdb_login_dict)\n",
    "conn.autocommit = True"
   ]
  },
  {
   "cell_type": "markdown",
   "metadata": {},
   "source": [
    "# Preparing Data"
   ]
  },
  {
   "cell_type": "markdown",
   "metadata": {},
   "source": [
    "We would like to drop all rows with null values. We do that by writing a where clause that checks that each column is not null."
   ]
  },
  {
   "cell_type": "code",
   "execution_count": 4,
   "metadata": {
    "ExecuteTime": {
     "end_time": "2017-07-05T15:01:20.414923Z",
     "start_time": "2017-07-05T15:01:20.371790Z"
    },
    "collapsed": true
   },
   "outputs": [],
   "source": [
    "sql = '''\n",
    "SELECT column_name\n",
    "  FROM information_schema.columns\n",
    " WHERE table_name = 'credit_scores'\n",
    " ORDER BY ordinal_position;\n",
    "'''\n",
    "col_names_df = psql.read_sql(sql, conn)"
   ]
  },
  {
   "cell_type": "code",
   "execution_count": 5,
   "metadata": {
    "ExecuteTime": {
     "end_time": "2017-07-05T15:01:20.446552Z",
     "start_time": "2017-07-05T15:01:20.416298Z"
    },
    "collapsed": true
   },
   "outputs": [],
   "source": [
    "count_cols = ', '.join([\"COUNT({0}) AS count_{0}\".format(i)\n",
    "                            for i in col_names_df.column_name])\n",
    "not_null_clause = ' AND '.join(['{} IS NOT NULL'.format(i)\n",
    "                                    for i in col_names_df.column_name])"
   ]
  },
  {
   "cell_type": "code",
   "execution_count": 6,
   "metadata": {
    "ExecuteTime": {
     "end_time": "2017-07-05T15:01:21.766268Z",
     "start_time": "2017-07-05T15:01:20.448069Z"
    }
   },
   "outputs": [
    {
     "name": "stdout",
     "output_type": "stream",
     "text": [
      "\n",
      "DROP TABLE IF EXISTS credit_scores_dropna;\n",
      "CREATE TABLE credit_scores_dropna\n",
      "   AS SELECT row_number()\n",
      "                 OVER (PARTITION BY serious_dlq_in_2_yrs\n",
      "                           ORDER BY random()\n",
      "                      ) AS id,\n",
      "             *\n",
      "        FROM credit_scores\n",
      "       WHERE {not_null_clause}\n",
      " DISTRIBUTED BY (id);\n",
      "\n"
     ]
    },
    {
     "data": {
      "text/plain": [
       "<cursor object at 0x11054d650; closed: 0>"
      ]
     },
     "execution_count": 6,
     "metadata": {},
     "output_type": "execute_result"
    }
   ],
   "source": [
    "sql = '''\n",
    "DROP TABLE IF EXISTS credit_scores_dropna;\n",
    "CREATE TABLE credit_scores_dropna\n",
    "   AS SELECT row_number()\n",
    "                 OVER (PARTITION BY serious_dlq_in_2_yrs\n",
    "                           ORDER BY random()\n",
    "                      ) AS id,\n",
    "             *\n",
    "        FROM credit_scores\n",
    "       WHERE {not_null_clause}\n",
    " DISTRIBUTED BY (id);\n",
    "'''\n",
    "print sql\n",
    "psql.execute(sql.format(**globals()), conn)"
   ]
  },
  {
   "cell_type": "markdown",
   "metadata": {},
   "source": [
    "## Split the data into training and test sets"
   ]
  },
  {
   "cell_type": "markdown",
   "metadata": {},
   "source": [
    "Get the number of labels in each class."
   ]
  },
  {
   "cell_type": "code",
   "execution_count": 7,
   "metadata": {
    "ExecuteTime": {
     "end_time": "2017-07-05T15:01:21.820606Z",
     "start_time": "2017-07-05T15:01:21.767473Z"
    }
   },
   "outputs": [
    {
     "data": {
      "text/html": [
       "<div>\n",
       "<style>\n",
       "    .dataframe thead tr:only-child th {\n",
       "        text-align: right;\n",
       "    }\n",
       "\n",
       "    .dataframe thead th {\n",
       "        text-align: left;\n",
       "    }\n",
       "\n",
       "    .dataframe tbody tr th {\n",
       "        vertical-align: top;\n",
       "    }\n",
       "</style>\n",
       "<table border=\"1\" class=\"dataframe\">\n",
       "  <thead>\n",
       "    <tr style=\"text-align: right;\">\n",
       "      <th></th>\n",
       "      <th>serious_dlq_in_2_yrs</th>\n",
       "      <th>count</th>\n",
       "    </tr>\n",
       "  </thead>\n",
       "  <tbody>\n",
       "    <tr>\n",
       "      <th>0</th>\n",
       "      <td>0</td>\n",
       "      <td>111912</td>\n",
       "    </tr>\n",
       "    <tr>\n",
       "      <th>1</th>\n",
       "      <td>1</td>\n",
       "      <td>8357</td>\n",
       "    </tr>\n",
       "  </tbody>\n",
       "</table>\n",
       "</div>"
      ],
      "text/plain": [
       "   serious_dlq_in_2_yrs   count\n",
       "0                     0  111912\n",
       "1                     1    8357"
      ]
     },
     "execution_count": 7,
     "metadata": {},
     "output_type": "execute_result"
    }
   ],
   "source": [
    "sql = '''\n",
    "SELECT serious_dlq_in_2_yrs, COUNT(*)\n",
    "  FROM credit_scores_dropna\n",
    " GROUP BY serious_dlq_in_2_yrs\n",
    " ORDER BY serious_dlq_in_2_yrs;\n",
    "'''\n",
    "psql.read_sql(sql, conn)"
   ]
  },
  {
   "cell_type": "markdown",
   "metadata": {},
   "source": [
    "Since the proportion of the labels is not equal, we have a class imbalance problem. Training on a data set that has the same proportions as the actual data set will bias the model to prefer non-deliquent accounts. We will instead split up our data so that the training set has equal proportions of both classes."
   ]
  },
  {
   "cell_type": "code",
   "execution_count": 8,
   "metadata": {
    "ExecuteTime": {
     "end_time": "2017-07-05T15:01:23.677224Z",
     "start_time": "2017-07-05T15:01:21.822071Z"
    }
   },
   "outputs": [
    {
     "data": {
      "text/plain": [
       "<cursor object at 0x11054d550; closed: 0>"
      ]
     },
     "execution_count": 8,
     "metadata": {},
     "output_type": "execute_result"
    }
   ],
   "source": [
    "sql = '''\n",
    "DROP TABLE IF EXISTS credit_scores_train;\n",
    "CREATE TABLE credit_scores_train\n",
    "   AS SELECT row_number() OVER () AS row_id, *\n",
    "        FROM credit_scores_dropna\n",
    "       WHERE id < 8357 * 0.8\n",
    " DISTRIBUTED BY (id);\n",
    " \n",
    "DROP TABLE IF EXISTS credit_scores_test;\n",
    "CREATE TABLE credit_scores_test\n",
    "   AS SELECT row_number() OVER () AS row_id, *\n",
    "        FROM credit_scores_dropna\n",
    "       WHERE id >= 8357 * 0.8\n",
    " DISTRIBUTED BY (id);\n",
    "'''\n",
    "psql.execute(sql, conn)"
   ]
  },
  {
   "cell_type": "markdown",
   "metadata": {},
   "source": [
    "To verify this, we check the number of each class in both the training and test sets."
   ]
  },
  {
   "cell_type": "code",
   "execution_count": 9,
   "metadata": {
    "ExecuteTime": {
     "end_time": "2017-07-05T15:01:23.742155Z",
     "start_time": "2017-07-05T15:01:23.678601Z"
    }
   },
   "outputs": [
    {
     "data": {
      "text/html": [
       "<div>\n",
       "<style>\n",
       "    .dataframe thead tr:only-child th {\n",
       "        text-align: right;\n",
       "    }\n",
       "\n",
       "    .dataframe thead th {\n",
       "        text-align: left;\n",
       "    }\n",
       "\n",
       "    .dataframe tbody tr th {\n",
       "        vertical-align: top;\n",
       "    }\n",
       "</style>\n",
       "<table border=\"1\" class=\"dataframe\">\n",
       "  <thead>\n",
       "    <tr style=\"text-align: right;\">\n",
       "      <th></th>\n",
       "      <th>serious_dlq_in_2_yrs</th>\n",
       "      <th>count</th>\n",
       "    </tr>\n",
       "  </thead>\n",
       "  <tbody>\n",
       "    <tr>\n",
       "      <th>0</th>\n",
       "      <td>0</td>\n",
       "      <td>6685</td>\n",
       "    </tr>\n",
       "    <tr>\n",
       "      <th>1</th>\n",
       "      <td>1</td>\n",
       "      <td>6685</td>\n",
       "    </tr>\n",
       "  </tbody>\n",
       "</table>\n",
       "</div>"
      ],
      "text/plain": [
       "   serious_dlq_in_2_yrs  count\n",
       "0                     0   6685\n",
       "1                     1   6685"
      ]
     },
     "metadata": {},
     "output_type": "display_data"
    },
    {
     "data": {
      "text/html": [
       "<div>\n",
       "<style>\n",
       "    .dataframe thead tr:only-child th {\n",
       "        text-align: right;\n",
       "    }\n",
       "\n",
       "    .dataframe thead th {\n",
       "        text-align: left;\n",
       "    }\n",
       "\n",
       "    .dataframe tbody tr th {\n",
       "        vertical-align: top;\n",
       "    }\n",
       "</style>\n",
       "<table border=\"1\" class=\"dataframe\">\n",
       "  <thead>\n",
       "    <tr style=\"text-align: right;\">\n",
       "      <th></th>\n",
       "      <th>serious_dlq_in_2_yrs</th>\n",
       "      <th>count</th>\n",
       "    </tr>\n",
       "  </thead>\n",
       "  <tbody>\n",
       "    <tr>\n",
       "      <th>0</th>\n",
       "      <td>0</td>\n",
       "      <td>105227</td>\n",
       "    </tr>\n",
       "    <tr>\n",
       "      <th>1</th>\n",
       "      <td>1</td>\n",
       "      <td>1672</td>\n",
       "    </tr>\n",
       "  </tbody>\n",
       "</table>\n",
       "</div>"
      ],
      "text/plain": [
       "   serious_dlq_in_2_yrs   count\n",
       "0                     0  105227\n",
       "1                     1    1672"
      ]
     },
     "metadata": {},
     "output_type": "display_data"
    }
   ],
   "source": [
    "sql = '''\n",
    "SELECT serious_dlq_in_2_yrs, COUNT(*)\n",
    "  FROM credit_scores_train\n",
    " GROUP BY serious_dlq_in_2_yrs\n",
    " ORDER BY serious_dlq_in_2_yrs;\n",
    "'''\n",
    "display(psql.read_sql(sql, conn))\n",
    "\n",
    "sql = '''\n",
    "SELECT serious_dlq_in_2_yrs, COUNT(*)\n",
    "  FROM credit_scores_test\n",
    " GROUP BY serious_dlq_in_2_yrs\n",
    " ORDER BY serious_dlq_in_2_yrs;\n",
    "'''\n",
    "display(psql.read_sql(sql, conn))"
   ]
  },
  {
   "cell_type": "markdown",
   "metadata": {},
   "source": [
    "## Define PL/Python Functions\n",
    "We define two PL/Python functions:\n",
    "- One will train our model given input data. It will output a <a href='https://docs.python.org/2/library/pickle.html'>pickled</a> model object.\n",
    "- The second PL/Python function will read in the pickled model object and apply the model to test data."
   ]
  },
  {
   "cell_type": "code",
   "execution_count": 10,
   "metadata": {
    "ExecuteTime": {
     "end_time": "2017-07-05T15:01:23.787593Z",
     "start_time": "2017-07-05T15:01:23.743446Z"
    }
   },
   "outputs": [
    {
     "data": {
      "text/plain": [
       "<cursor object at 0x11054d750; closed: 0>"
      ]
     },
     "execution_count": 10,
     "metadata": {},
     "output_type": "execute_result"
    }
   ],
   "source": [
    "sql = '''\n",
    "DROP FUNCTION IF EXISTS run_random_forest_clf(INTEGER[],\n",
    "                                              DOUBLE PRECISION[],\n",
    "                                              INTEGER,\n",
    "                                              INTEGER\n",
    "                                             );\n",
    "-- Creates a PL/Python UDF to train a random forests. It outputs the\n",
    "-- pickled random forest object.\n",
    "CREATE FUNCTION run_random_forest_clf(y_var INTEGER[],\n",
    "                                      x_matrix DOUBLE PRECISION[],\n",
    "                                      num_features INTEGER,\n",
    "                                      max_depth INTEGER\n",
    "                                     )\n",
    "RETURNS BYTEA\n",
    "AS\n",
    "$$\n",
    "    import cPickle\n",
    "\n",
    "    import numpy as np\n",
    "    import pandas as pd\n",
    "    from sklearn.ensemble import RandomForestClassifier\n",
    "    \n",
    "    X = np.array(x_matrix).reshape(-1, num_features)\n",
    "    \n",
    "    rf_clf = RandomForestClassifier(max_depth=max_depth,\n",
    "                                    n_estimators=10,\n",
    "                                    n_jobs=-1\n",
    "                                   )\n",
    "    rf_clf.fit(X, y_var)\n",
    "    \n",
    "    pckl = cPickle.dumps(rf_clf)\n",
    "    \n",
    "    return pckl\n",
    "$$\n",
    "LANGUAGE plpythonu;\n",
    "\n",
    "DROP FUNCTION IF EXISTS predict_random_forest(BYTEA,\n",
    "                                              DOUBLE PRECISION[],\n",
    "                                              INTEGER\n",
    "                                             );\n",
    "-- Creates a PL/Python UDF to predict based off the trained random\n",
    "-- forest. It outputs the predicted probability.\n",
    "CREATE FUNCTION predict_random_forest(pckl BYTEA,\n",
    "                                      x_matrix DOUBLE PRECISION[],\n",
    "                                      num_features INTEGER\n",
    "                                     )\n",
    "RETURNS DOUBLE PRECISION[]\n",
    "AS\n",
    "$$\n",
    "    import cPickle\n",
    "    \n",
    "    import numpy as np\n",
    "        \n",
    "    X = np.array(x_matrix).reshape(-1, num_features)\n",
    "    rf_clf = cPickle.loads(pckl)\n",
    "    \n",
    "    return rf_clf.predict_proba(X)[:, 1]\n",
    "$$\n",
    "LANGUAGE plpythonu;\n",
    "'''\n",
    "psql.execute(sql, conn)"
   ]
  },
  {
   "cell_type": "markdown",
   "metadata": {},
   "source": [
    "The next query creates a custom aggregate function. In the PostgreSQL standard, performing an <a href='https://www.postgresql.org/docs/9.5/static/functions-aggregate.html'>`array_agg`</a> on array types does not work, so we need to create our own. This allows the entire training set to be collapsed into a single array so we can feed it into a PL/Python function."
   ]
  },
  {
   "cell_type": "code",
   "execution_count": 11,
   "metadata": {
    "ExecuteTime": {
     "end_time": "2017-07-05T15:01:23.825333Z",
     "start_time": "2017-07-05T15:01:23.788983Z"
    }
   },
   "outputs": [
    {
     "data": {
      "text/plain": [
       "<cursor object at 0x11054d850; closed: 0>"
      ]
     },
     "execution_count": 11,
     "metadata": {},
     "output_type": "execute_result"
    }
   ],
   "source": [
    "# Creates an aggregate function that allows us to do array_agg on an\n",
    "# array.\n",
    "sql = '''\n",
    "DROP AGGREGATE IF EXISTS array_agg_array(anyarray);\n",
    "CREATE ORDERED AGGREGATE array_agg_array(anyarray)\n",
    "(\n",
    "    SFUNC = array_cat,\n",
    "    STYPE = anyarray\n",
    ");\n",
    "'''\n",
    "psql.execute(sql, conn)"
   ]
  },
  {
   "cell_type": "markdown",
   "metadata": {},
   "source": [
    "We run our random forest by using our new aggregate `array_agg_array` to fit all of the data into a single cell. We also cross join the training set with a set of different parameters across 10 iterations. By stating\n",
    "\n",
    "    DISTRIBUTED BY (max_depth, iter_num)\n",
    "   \n",
    ", it allows us to run each combination of `max_depth` and `iter_num` in parallel."
   ]
  },
  {
   "cell_type": "code",
   "execution_count": 12,
   "metadata": {
    "ExecuteTime": {
     "end_time": "2017-07-05T15:02:17.962410Z",
     "start_time": "2017-07-05T15:01:23.826716Z"
    }
   },
   "outputs": [
    {
     "name": "stdout",
     "output_type": "stream",
     "text": [
      "\n",
      "DROP TABLE IF EXISTS random_forest_pckl;\n",
      "CREATE TABLE random_forest_pckl\n",
      "   AS SELECT iter_num,\n",
      "             max_depth,\n",
      "             run_random_forest_clf(array_agg(serious_dlq_in_2_yrs),\n",
      "                                   array_agg_array(ARRAY[revolving_util_unsecured_lines, age, num_time_30_59_days_past_due_not_worse, debt_ratio, monthly_income, num_open_credit_line_loans, num_time_90_days_late, num_real_estate_loan_lines, num_time_60_89_days_past_due_not_worse, num_dependents]),\n",
      "                                   10,\n",
      "                                   max_depth\n",
      "                                  ) AS pckl\n",
      "        FROM credit_scores_train\n",
      "             CROSS JOIN (SELECT generate_series(1, 10) AS max_depth) AS params\n",
      "             CROSS JOIN (SELECT generate_series(1, 10) AS iter_num) AS iterations\n",
      "       GROUP BY max_depth, iter_num\n",
      " DISTRIBUTED BY (max_depth, iter_num);\n",
      "\n"
     ]
    },
    {
     "data": {
      "text/plain": [
       "<cursor object at 0x11054d950; closed: 0>"
      ]
     },
     "execution_count": 12,
     "metadata": {},
     "output_type": "execute_result"
    }
   ],
   "source": [
    "X_names = list(col_names_df.column_name)\n",
    "X_names.remove('serious_dlq_in_2_yrs')\n",
    "\n",
    "# Run Random Forest\n",
    "sql = '''\n",
    "DROP TABLE IF EXISTS random_forest_pckl;\n",
    "CREATE TABLE random_forest_pckl\n",
    "   AS SELECT iter_num,\n",
    "             max_depth,\n",
    "             run_random_forest_clf(array_agg(serious_dlq_in_2_yrs),\n",
    "                                   array_agg_array(ARRAY[{}]),\n",
    "                                   {},\n",
    "                                   max_depth\n",
    "                                  ) AS pckl\n",
    "        FROM credit_scores_train\n",
    "             CROSS JOIN (SELECT generate_series(1, 10) AS max_depth) AS params\n",
    "             CROSS JOIN (SELECT generate_series(1, 10) AS iter_num) AS iterations\n",
    "       GROUP BY max_depth, iter_num\n",
    " DISTRIBUTED BY (max_depth, iter_num);\n",
    "'''.format(', '.join(X_names), len(X_names))\n",
    "print sql\n",
    "psql.execute(sql, conn)"
   ]
  },
  {
   "cell_type": "markdown",
   "metadata": {},
   "source": [
    "# Test Set on Batches"
   ]
  },
  {
   "cell_type": "markdown",
   "metadata": {},
   "source": [
    "Now that we have trained the model, we must apply it to the entire data set. Since the test set is much larger than the training set, it behooves us to not `array_agg_array` the entire test set. Otherwise, all of it will be read into a single PL/Python instance. We can instead split the test set into batches so that each PL/Python instance can run in parallel and so they each have a smaller load."
   ]
  },
  {
   "cell_type": "code",
   "execution_count": 13,
   "metadata": {
    "ExecuteTime": {
     "end_time": "2017-07-05T15:02:52.796276Z",
     "start_time": "2017-07-05T15:02:17.964060Z"
    }
   },
   "outputs": [
    {
     "name": "stdout",
     "output_type": "stream",
     "text": [
      "\n",
      "DROP TABLE IF EXISTS random_forest_pred_batch;\n",
      "CREATE TABLE random_forest_pred_batch\n",
      "   AS SELECT max_depth,\n",
      "             iter_num,\n",
      "             predict_random_forest(pckl,\n",
      "                                   feature_array,\n",
      "                                   10\n",
      "                                  ) AS score,\n",
      "             row_id_array\n",
      "        FROM (SELECT row_id/2000 AS batch_num,\n",
      "                     array_agg_array(ARRAY[revolving_util_unsecured_lines, age, num_time_30_59_days_past_due_not_worse, debt_ratio, monthly_income, num_open_credit_line_loans, num_time_90_days_late, num_real_estate_loan_lines, num_time_60_89_days_past_due_not_worse, num_dependents] ORDER BY row_id) AS feature_array,\n",
      "                     array_agg(row_id ORDER BY row_id) AS row_id_array\n",
      "                FROM credit_scores_test\n",
      "               GROUP BY batch_num\n",
      "             ) AS f\n",
      "             CROSS JOIN random_forest_pckl\n",
      " DISTRIBUTED BY (max_depth, iter_num);\n",
      "\n"
     ]
    },
    {
     "data": {
      "text/plain": [
       "<cursor object at 0x11054da50; closed: 0>"
      ]
     },
     "execution_count": 13,
     "metadata": {},
     "output_type": "execute_result"
    }
   ],
   "source": [
    "sql = '''\n",
    "DROP TABLE IF EXISTS random_forest_pred_batch;\n",
    "CREATE TABLE random_forest_pred_batch\n",
    "   AS SELECT max_depth,\n",
    "             iter_num,\n",
    "             predict_random_forest(pckl,\n",
    "                                   feature_array,\n",
    "                                   {}\n",
    "                                  ) AS score,\n",
    "             row_id_array\n",
    "        FROM (SELECT row_id/2000 AS batch_num,\n",
    "                     array_agg_array(ARRAY[{}] ORDER BY row_id) AS feature_array,\n",
    "                     array_agg(row_id ORDER BY row_id) AS row_id_array\n",
    "                FROM credit_scores_test\n",
    "               GROUP BY batch_num\n",
    "             ) AS f\n",
    "             CROSS JOIN random_forest_pckl\n",
    " DISTRIBUTED BY (max_depth, iter_num);\n",
    "'''.format(len(X_names),\n",
    "           ', '.join(X_names))\n",
    "print sql\n",
    "psql.execute(sql, conn)"
   ]
  },
  {
   "cell_type": "markdown",
   "metadata": {},
   "source": [
    "Our final step is `UNNEST` our predicted scores and match them up with our test data."
   ]
  },
  {
   "cell_type": "code",
   "execution_count": 14,
   "metadata": {
    "ExecuteTime": {
     "end_time": "2017-07-05T15:03:09.488716Z",
     "start_time": "2017-07-05T15:02:52.797631Z"
    }
   },
   "outputs": [
    {
     "data": {
      "text/plain": [
       "<cursor object at 0x11054db50; closed: 0>"
      ]
     },
     "execution_count": 14,
     "metadata": {},
     "output_type": "execute_result"
    }
   ],
   "source": [
    "sql = '''\n",
    "DROP TABLE IF EXISTS random_forest_pred_score_batch;\n",
    "CREATE TABLE random_forest_pred_score_batch\n",
    "     AS WITH temp_scores AS\n",
    "             (SELECT max_depth,\n",
    "                     iter_num,\n",
    "                     UNNEST(score) AS score,\n",
    "                     UNNEST(row_id_array) AS row_id\n",
    "                FROM random_forest_pred_batch\n",
    "             ),\n",
    "             temp_credit_scores AS\n",
    "             (SELECT * FROM credit_scores_test)\n",
    "      SELECT row_id,\n",
    "             max_depth,\n",
    "             iter_num,\n",
    "             score,\n",
    "             serious_dlq_in_2_yrs\n",
    "        FROM temp_scores\n",
    "             INNER JOIN temp_credit_scores\n",
    "                  USING (row_id)\n",
    " DISTRIBUTED BY (row_id);\n",
    "'''\n",
    "psql.execute(sql, conn)"
   ]
  },
  {
   "cell_type": "markdown",
   "metadata": {},
   "source": [
    "# Check Performance"
   ]
  },
  {
   "cell_type": "markdown",
   "metadata": {},
   "source": [
    "We can now verify how well our model performed at varying levels of `max_depth`."
   ]
  },
  {
   "cell_type": "code",
   "execution_count": 15,
   "metadata": {
    "ExecuteTime": {
     "end_time": "2017-07-05T15:03:59.843953Z",
     "start_time": "2017-07-05T15:03:09.490343Z"
    }
   },
   "outputs": [],
   "source": [
    "sql = '''\n",
    "SELECT max_depth,\n",
    "       serious_dlq_in_2_yrs AS y_true,\n",
    "       score AS y_score, *\n",
    "  FROM random_forest_pred_score_batch;\n",
    "'''\n",
    "score_label_df = psql.read_sql(sql, conn)"
   ]
  },
  {
   "cell_type": "code",
   "execution_count": 16,
   "metadata": {
    "ExecuteTime": {
     "end_time": "2017-07-05T15:04:13.420150Z",
     "start_time": "2017-07-05T15:03:59.847625Z"
    }
   },
   "outputs": [],
   "source": [
    "# Gather all of the AUCs\n",
    "auc_list = []\n",
    "max_depth_list = []\n",
    "for max_depth in xrange(1, 11):\n",
    "    for iter_num in xrange(1, 11):\n",
    "        _temp_df = score_label_df.query('max_depth == {} & iter_num == {}'\n",
    "                                            .format(max_depth, iter_num))\n",
    "        auc_list.append(roc_auc_score(_temp_df.y_true,\n",
    "                                      _temp_df.y_score))\n",
    "        max_depth_list.append(max_depth)"
   ]
  },
  {
   "cell_type": "code",
   "execution_count": 17,
   "metadata": {
    "ExecuteTime": {
     "end_time": "2017-07-05T15:04:13.784714Z",
     "start_time": "2017-07-05T15:04:13.421637Z"
    }
   },
   "outputs": [
    {
     "data": {
      "image/png": "[encoded data removed]",
      "text/plain": [
       "<matplotlib.figure.Figure at 0x1105c4090>"
      ]
     },
     "metadata": {},
     "output_type": "display_data"
    }
   ],
   "source": [
    "plt.plot(max_depth_list, auc_list, 'o')\n",
    "plt.title('AUC vs. Max Depth')\n",
    "plt.xlabel('Max Depth')\n",
    "plt.ylabel('AUC')\n",
    "plt.tight_layout()\n",
    "\n",
    "plt.savefig('auc_vs_max_depth.png')"
   ]
  }
 ],
 "metadata": {
  "kernelspec": {
   "display_name": "Python 2",
   "language": "python",
   "name": "python2"
  },
  "language_info": {
   "codemirror_mode": {
    "name": "ipython",
    "version": 2
   },
   "file_extension": ".py",
   "mimetype": "text/x-python",
   "name": "python",
   "nbconvert_exporter": "python",
   "pygments_lexer": "ipython2",
   "version": "2.7.13"
  },
  "toc": {
   "colors": {
    "hover_highlight": "#DAA520",
    "navigate_num": "#000000",
    "navigate_text": "#333333",
    "running_highlight": "#FF0000",
    "selected_highlight": "#FFD700",
    "sidebar_border": "#EEEEEE",
    "wrapper_background": "#FFFFFF"
   },
   "moveMenuLeft": true,
   "nav_menu": {
    "height": "12px",
    "width": "252px"
   },
   "navigate_menu": true,
   "number_sections": true,
   "sideBar": true,
   "threshold": 4,
   "toc_cell": true,
   "toc_position": {
    "height": "1211px",
    "left": "0px",
    "right": "1068px",
    "top": "106px",
    "width": "212px"
   },
   "toc_section_display": "block",
   "toc_window_display": true,
   "widenNotebook": false
  }
 },
 "nbformat": 4,
 "nbformat_minor": 2
}
